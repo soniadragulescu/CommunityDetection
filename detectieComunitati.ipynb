{
 "cells": [
  {
   "cell_type": "code",
   "execution_count": 1,
   "outputs": [],
   "source": [
    "# read the network details\n",
    "def readNet(fileName):\n",
    "    f = open(fileName, \"r\")\n",
    "    net = {}\n",
    "    n = int(f.readline())\n",
    "    net['noNodes'] = n\n",
    "    mat = []\n",
    "    for i in range(n):\n",
    "        mat.append([])\n",
    "        line = f.readline()\n",
    "        elems = line.split(\" \")\n",
    "        for j in range(n):\n",
    "            mat[-1].append(int(elems[j]))\n",
    "    net[\"mat\"] = mat \n",
    "    degrees = []\n",
    "    noEdges = 0\n",
    "    for i in range(n):\n",
    "        d = 0\n",
    "        for j in range(n):\n",
    "            if (mat[i][j] == 1):\n",
    "                d += 1\n",
    "            if (j > i):\n",
    "                noEdges += mat[i][j]\n",
    "        degrees.append(d)\n",
    "    net[\"noEdges\"] = noEdges\n",
    "    net[\"degrees\"] = degrees\n",
    "    f.close()\n",
    "    return net"
   ],
   "metadata": {
    "collapsed": false,
    "pycharm": {
     "name": "#%%\n",
     "is_executing": false
    }
   }
  },
  {
   "cell_type": "code",
   "execution_count": 2,
   "outputs": [],
   "source": [
    "import networkx as NX\n",
    "\n",
    "def readGML(fileName):\n",
    "    net={}\n",
    "    # G=NX.read_gml('data/dolphins.gml')\n",
    "    G=NX.read_gml(fileName)\n",
    "    n=len(G.nodes())\n",
    "    net['noNodes']=n\n",
    "    mat=[]\n",
    "    for i in range(n):\n",
    "        mat.append([])\n",
    "        for j in range(n):\n",
    "            mat[i].append(0)\n",
    "    sol = list(G.nodes())\n",
    "    for element in G.edges():\n",
    "        mat[sol.index(element[0])][sol.index(element[-1])]=1\n",
    "    net['mat']=mat\n",
    "    degrees = []\n",
    "    noEdges = 0\n",
    "    for i in range(n):\n",
    "        d = 0\n",
    "        for j in range(n):\n",
    "            if (mat[i][j] == 1):\n",
    "                d += 1\n",
    "            if (j > i):\n",
    "                noEdges += mat[i][j]\n",
    "        degrees.append(d)\n",
    "    net[\"noEdges\"] = noEdges\n",
    "    net[\"degrees\"] = degrees\n",
    "    return net\n",
    "    # print(str(sol.index(element[0])) + \" : \" + str(sol.index(element[-1])))\n",
    "    # print(G.nodes())\n",
    "    # print(G.edges)"
   ],
   "metadata": {
    "collapsed": false,
    "pycharm": {
     "name": "#%%\n",
     "is_executing": false
    }
   }
  },
  {
   "cell_type": "code",
   "execution_count": 3,
   "outputs": [],
   "source": [
    "# define the function\n",
    "import math\n",
    "import numpy as np \n",
    "\n",
    "MIN = -5\n",
    "MAX = 5\n",
    "\n",
    "def fcEval(communities,param):\n",
    "    noNodes = param['noNodes']\n",
    "    mat = param['mat']\n",
    "    degrees = param['degrees']\n",
    "    noEdges = param['noEdges']  \n",
    "    M = 2 * noEdges\n",
    "    Q = 0.0\n",
    "    for i in range(0, noNodes):\n",
    "        for j in range(0, noNodes):\n",
    "            if (communities[i] == communities[j]):\n",
    "               Q += (mat[i][j] - degrees[i] * degrees[j] / M)\n",
    "    return Q * 1 / M\n",
    " "
   ],
   "metadata": {
    "collapsed": false,
    "pycharm": {
     "name": "#%%\n",
     "is_executing": false
    }
   }
  },
  {
   "cell_type": "markdown",
   "source": [
    "**GA running**\n",
    "\n",
    "Use the GA (with real encoding) for identify the optimal solution\n"
   ],
   "metadata": {
    "collapsed": false
   }
  },
  {
   "cell_type": "code",
   "execution_count": 4,
   "outputs": [],
   "source": [
    "\n",
    "\n",
    "from random import randint\n",
    "\n",
    "class GA:\n",
    "    def __init__(self, param = None, problParam = None):\n",
    "        self.__param = param\n",
    "        self.__problParam = problParam\n",
    "        self.__population = []\n",
    "        \n",
    "    @property\n",
    "    def population(self):\n",
    "        return self.__population\n",
    "    \n",
    "    def initialisation(self):\n",
    "        for _ in range(0, self.__param['popSize']):\n",
    "            c = Chromosome(self.__problParam)\n",
    "            self.__population.append(c)\n",
    "    \n",
    "    def evaluation(self):\n",
    "        for c in self.__population:\n",
    "            c.fitness = self.__problParam['function'](c.repres,net)\n",
    "            \n",
    "    def worstChromosome(self):\n",
    "        best = self.__population[0]\n",
    "        for c in self.__population:\n",
    "            if (c.fitness < best.fitness):\n",
    "                best = c\n",
    "        return best\n",
    "        \n",
    "    def bestChromosome(self):\n",
    "        best = self.__population[0]\n",
    "        for c in self.__population:\n",
    "            if (c.fitness > best.fitness):\n",
    "                best = c\n",
    "        return best\n",
    "\n",
    "    def selection(self):\n",
    "        pos1 = randint(0, self.__param['popSize'] - 1)\n",
    "        pos2 = randint(0, self.__param['popSize'] - 1)\n",
    "        if (self.__population[pos1].fitness > self.__population[pos2].fitness):\n",
    "            return pos1\n",
    "        else:\n",
    "            return pos2 \n",
    "        \n",
    "    \n",
    "    def oneGeneration(self):\n",
    "        newPop = []\n",
    "        for _ in range(self.__param['popSize']):\n",
    "            p1 = self.__population[self.selection()]\n",
    "            p2 = self.__population[self.selection()]\n",
    "            off = p1.crossover(p2)\n",
    "            off.mutation()\n",
    "            newPop.append(off)\n",
    "        self.__population = newPop\n",
    "        self.evaluation()\n",
    "\n",
    "    def oneGenerationElitism(self):\n",
    "        newPop = [self.bestChromosome()]\n",
    "        for _ in range(self.__param['popSize'] - 1):\n",
    "            p1 = self.__population[self.selection()]\n",
    "            p2 = self.__population[self.selection()]\n",
    "            off = p1.crossover(p2)\n",
    "            off.mutation()\n",
    "            newPop.append(off)\n",
    "        self.__population = newPop\n",
    "        self.evaluation()\n",
    "        \n",
    "    def oneGenerationSteadyState(self):\n",
    "        newPop = [self.bestChromosome()]\n",
    "        for _ in range(self.__param['popSize']-1):\n",
    "            p1 = self.__population[self.selection()]\n",
    "            p2 = self.__population[self.selection()]\n",
    "            off = p1.crossover(p2)\n",
    "            off.mutation()\n",
    "            off.fitness = self.__problParam['function'](off.repres)\n",
    "            worst = self.worstChromosome()\n",
    "            if (off.fitness < worst.fitness):\n",
    "                worst = off        "
   ],
   "metadata": {
    "collapsed": false,
    "pycharm": {
     "name": "#%%\n",
     "is_executing": false
    }
   }
  },
  {
   "cell_type": "code",
   "execution_count": 5,
   "outputs": [],
   "source": [
    "def nrComunitati(repres):\n",
    "    n=len(repres)\n",
    "    aux=[0]*12\n",
    "    nr=0\n",
    "    for i in range(n):\n",
    "        aux[repres[i]]=repres.count(repres[i])\n",
    "    for x in aux:\n",
    "        if x!=0:\n",
    "            nr=nr+1\n",
    "    return nr"
   ],
   "metadata": {
    "collapsed": false,
    "pycharm": {
     "name": "#%%\n",
     "is_executing": false
    }
   }
  },
  {
   "cell_type": "code",
   "execution_count": 6,
   "outputs": [
    {
     "traceback": [
      "\u001b[1;31m---------------------------------------------------------------------------\u001b[0m",
      "\u001b[1;31mKeyError\u001b[0m                                  Traceback (most recent call last)",
      "\u001b[1;32mc:\\users\\sonia\\pycharmprojects\\ai_laborator3\\venv\\lib\\site-packages\\networkx\\readwrite\\gml.py\u001b[0m in \u001b[0;36mpop_attr\u001b[1;34m(dct, category, attr, i)\u001b[0m\n\u001b[0;32m    427\u001b[0m         \u001b[1;32mtry\u001b[0m\u001b[1;33m:\u001b[0m\u001b[1;33m\u001b[0m\u001b[0m\n\u001b[1;32m--> 428\u001b[1;33m             \u001b[1;32mreturn\u001b[0m \u001b[0mdct\u001b[0m\u001b[1;33m.\u001b[0m\u001b[0mpop\u001b[0m\u001b[1;33m(\u001b[0m\u001b[0mattr\u001b[0m\u001b[1;33m)\u001b[0m\u001b[1;33m\u001b[0m\u001b[0m\n\u001b[0m\u001b[0;32m    429\u001b[0m         \u001b[1;32mexcept\u001b[0m \u001b[0mKeyError\u001b[0m\u001b[1;33m:\u001b[0m\u001b[1;33m\u001b[0m\u001b[0m\n",
      "\u001b[1;31mKeyError\u001b[0m: 'label'",
      "\nDuring handling of the above exception, another exception occurred:\n",
      "\u001b[1;31mNetworkXError\u001b[0m                             Traceback (most recent call last)",
      "\u001b[1;32m<ipython-input-6-501383a8f661>\u001b[0m in \u001b[0;36m<module>\u001b[1;34m\u001b[0m\n\u001b[0;32m      7\u001b[0m \u001b[1;33m\u001b[0m\u001b[0m\n\u001b[0;32m      8\u001b[0m \u001b[1;31m#net=readNet(\"data/net.in\")\u001b[0m\u001b[1;33m\u001b[0m\u001b[1;33m\u001b[0m\u001b[0m\n\u001b[1;32m----> 9\u001b[1;33m \u001b[0mnet\u001b[0m\u001b[1;33m=\u001b[0m\u001b[0mreadGML\u001b[0m\u001b[1;33m(\u001b[0m\u001b[1;34m\"data/karate.gml\"\u001b[0m\u001b[1;33m)\u001b[0m\u001b[1;33m\u001b[0m\u001b[0m\n\u001b[0m\u001b[0;32m     10\u001b[0m \u001b[1;31m# print(net['mat'])\u001b[0m\u001b[1;33m\u001b[0m\u001b[1;33m\u001b[0m\u001b[0m\n\u001b[0;32m     11\u001b[0m \u001b[1;31m# print(net['degrees'])\u001b[0m\u001b[1;33m\u001b[0m\u001b[1;33m\u001b[0m\u001b[0m\n",
      "\u001b[1;32m<ipython-input-2-f4c94f95adb7>\u001b[0m in \u001b[0;36mreadGML\u001b[1;34m(fileName)\u001b[0m\n\u001b[0;32m      4\u001b[0m     \u001b[0mnet\u001b[0m\u001b[1;33m=\u001b[0m\u001b[1;33m{\u001b[0m\u001b[1;33m}\u001b[0m\u001b[1;33m\u001b[0m\u001b[0m\n\u001b[0;32m      5\u001b[0m     \u001b[1;31m# G=NX.read_gml('data/dolphins.gml')\u001b[0m\u001b[1;33m\u001b[0m\u001b[1;33m\u001b[0m\u001b[0m\n\u001b[1;32m----> 6\u001b[1;33m     \u001b[0mG\u001b[0m\u001b[1;33m=\u001b[0m\u001b[0mNX\u001b[0m\u001b[1;33m.\u001b[0m\u001b[0mread_gml\u001b[0m\u001b[1;33m(\u001b[0m\u001b[0mfileName\u001b[0m\u001b[1;33m)\u001b[0m\u001b[1;33m\u001b[0m\u001b[0m\n\u001b[0m\u001b[0;32m      7\u001b[0m     \u001b[0mn\u001b[0m\u001b[1;33m=\u001b[0m\u001b[0mlen\u001b[0m\u001b[1;33m(\u001b[0m\u001b[0mG\u001b[0m\u001b[1;33m.\u001b[0m\u001b[0mnodes\u001b[0m\u001b[1;33m(\u001b[0m\u001b[1;33m)\u001b[0m\u001b[1;33m)\u001b[0m\u001b[1;33m\u001b[0m\u001b[0m\n\u001b[0;32m      8\u001b[0m     \u001b[0mnet\u001b[0m\u001b[1;33m[\u001b[0m\u001b[1;34m'noNodes'\u001b[0m\u001b[1;33m]\u001b[0m\u001b[1;33m=\u001b[0m\u001b[0mn\u001b[0m\u001b[1;33m\u001b[0m\u001b[0m\n",
      "\u001b[1;32m<decorator-gen-778>\u001b[0m in \u001b[0;36mread_gml\u001b[1;34m(path, label, destringizer)\u001b[0m\n",
      "\u001b[1;32mc:\\users\\sonia\\pycharmprojects\\ai_laborator3\\venv\\lib\\site-packages\\networkx\\utils\\decorators.py\u001b[0m in \u001b[0;36m_open_file\u001b[1;34m(func_to_be_decorated, *args, **kwargs)\u001b[0m\n\u001b[0;32m    238\u001b[0m         \u001b[1;31m# Finally, we call the original function, making sure to close the fobj\u001b[0m\u001b[1;33m\u001b[0m\u001b[1;33m\u001b[0m\u001b[0m\n\u001b[0;32m    239\u001b[0m         \u001b[1;32mtry\u001b[0m\u001b[1;33m:\u001b[0m\u001b[1;33m\u001b[0m\u001b[0m\n\u001b[1;32m--> 240\u001b[1;33m             \u001b[0mresult\u001b[0m \u001b[1;33m=\u001b[0m \u001b[0mfunc_to_be_decorated\u001b[0m\u001b[1;33m(\u001b[0m\u001b[1;33m*\u001b[0m\u001b[0mnew_args\u001b[0m\u001b[1;33m,\u001b[0m \u001b[1;33m**\u001b[0m\u001b[0mkwargs\u001b[0m\u001b[1;33m)\u001b[0m\u001b[1;33m\u001b[0m\u001b[0m\n\u001b[0m\u001b[0;32m    241\u001b[0m         \u001b[1;32mfinally\u001b[0m\u001b[1;33m:\u001b[0m\u001b[1;33m\u001b[0m\u001b[0m\n\u001b[0;32m    242\u001b[0m             \u001b[1;32mif\u001b[0m \u001b[0mclose_fobj\u001b[0m\u001b[1;33m:\u001b[0m\u001b[1;33m\u001b[0m\u001b[0m\n",
      "\u001b[1;32mc:\\users\\sonia\\pycharmprojects\\ai_laborator3\\venv\\lib\\site-packages\\networkx\\readwrite\\gml.py\u001b[0m in \u001b[0;36mread_gml\u001b[1;34m(path, label, destringizer)\u001b[0m\n\u001b[0;32m    216\u001b[0m             \u001b[1;32myield\u001b[0m \u001b[0mline\u001b[0m\u001b[1;33m\u001b[0m\u001b[0m\n\u001b[0;32m    217\u001b[0m \u001b[1;33m\u001b[0m\u001b[0m\n\u001b[1;32m--> 218\u001b[1;33m     \u001b[0mG\u001b[0m \u001b[1;33m=\u001b[0m \u001b[0mparse_gml_lines\u001b[0m\u001b[1;33m(\u001b[0m\u001b[0mfilter_lines\u001b[0m\u001b[1;33m(\u001b[0m\u001b[0mpath\u001b[0m\u001b[1;33m)\u001b[0m\u001b[1;33m,\u001b[0m \u001b[0mlabel\u001b[0m\u001b[1;33m,\u001b[0m \u001b[0mdestringizer\u001b[0m\u001b[1;33m)\u001b[0m\u001b[1;33m\u001b[0m\u001b[0m\n\u001b[0m\u001b[0;32m    219\u001b[0m     \u001b[1;32mreturn\u001b[0m \u001b[0mG\u001b[0m\u001b[1;33m\u001b[0m\u001b[0m\n\u001b[0;32m    220\u001b[0m \u001b[1;33m\u001b[0m\u001b[0m\n",
      "\u001b[1;32mc:\\users\\sonia\\pycharmprojects\\ai_laborator3\\venv\\lib\\site-packages\\networkx\\readwrite\\gml.py\u001b[0m in \u001b[0;36mparse_gml_lines\u001b[1;34m(lines, label, destringizer)\u001b[0m\n\u001b[0;32m    439\u001b[0m             \u001b[1;32mraise\u001b[0m \u001b[0mNetworkXError\u001b[0m\u001b[1;33m(\u001b[0m\u001b[1;34m'node id %r is duplicated'\u001b[0m \u001b[1;33m%\u001b[0m \u001b[1;33m(\u001b[0m\u001b[0mid\u001b[0m\u001b[1;33m,\u001b[0m\u001b[1;33m)\u001b[0m\u001b[1;33m)\u001b[0m\u001b[1;33m\u001b[0m\u001b[0m\n\u001b[0;32m    440\u001b[0m         \u001b[1;32mif\u001b[0m \u001b[0mlabel\u001b[0m \u001b[1;32mis\u001b[0m \u001b[1;32mnot\u001b[0m \u001b[1;32mNone\u001b[0m \u001b[1;32mand\u001b[0m \u001b[0mlabel\u001b[0m \u001b[1;33m!=\u001b[0m \u001b[1;34m'id'\u001b[0m\u001b[1;33m:\u001b[0m\u001b[1;33m\u001b[0m\u001b[0m\n\u001b[1;32m--> 441\u001b[1;33m             \u001b[0mnode_label\u001b[0m \u001b[1;33m=\u001b[0m \u001b[0mpop_attr\u001b[0m\u001b[1;33m(\u001b[0m\u001b[0mnode\u001b[0m\u001b[1;33m,\u001b[0m \u001b[1;34m'node'\u001b[0m\u001b[1;33m,\u001b[0m \u001b[0mlabel\u001b[0m\u001b[1;33m,\u001b[0m \u001b[0mi\u001b[0m\u001b[1;33m)\u001b[0m\u001b[1;33m\u001b[0m\u001b[0m\n\u001b[0m\u001b[0;32m    442\u001b[0m             \u001b[1;32mif\u001b[0m \u001b[0mnode_label\u001b[0m \u001b[1;32min\u001b[0m \u001b[0mnode_labels\u001b[0m\u001b[1;33m:\u001b[0m\u001b[1;33m\u001b[0m\u001b[0m\n\u001b[0;32m    443\u001b[0m                 raise NetworkXError('node label %r is duplicated' %\n",
      "\u001b[1;32mc:\\users\\sonia\\pycharmprojects\\ai_laborator3\\venv\\lib\\site-packages\\networkx\\readwrite\\gml.py\u001b[0m in \u001b[0;36mpop_attr\u001b[1;34m(dct, category, attr, i)\u001b[0m\n\u001b[0;32m    429\u001b[0m         \u001b[1;32mexcept\u001b[0m \u001b[0mKeyError\u001b[0m\u001b[1;33m:\u001b[0m\u001b[1;33m\u001b[0m\u001b[0m\n\u001b[0;32m    430\u001b[0m             raise NetworkXError(\n\u001b[1;32m--> 431\u001b[1;33m                 \"%s #%d has no '%s' attribute\" % (category, i, attr))\n\u001b[0m\u001b[0;32m    432\u001b[0m \u001b[1;33m\u001b[0m\u001b[0m\n\u001b[0;32m    433\u001b[0m     \u001b[0mnodes\u001b[0m \u001b[1;33m=\u001b[0m \u001b[0mgraph\u001b[0m\u001b[1;33m.\u001b[0m\u001b[0mget\u001b[0m\u001b[1;33m(\u001b[0m\u001b[1;34m'node'\u001b[0m\u001b[1;33m,\u001b[0m \u001b[1;33m[\u001b[0m\u001b[1;33m]\u001b[0m\u001b[1;33m)\u001b[0m\u001b[1;33m\u001b[0m\u001b[0m\n",
      "\u001b[1;31mNetworkXError\u001b[0m: node #0 has no 'label' attribute"
     ],
     "ename": "NetworkXError",
     "evalue": "node #0 has no 'label' attribute",
     "output_type": "error"
    }
   ],
   "source": [
    "from RealChromosome import Chromosome\n",
    "#from BinChromosome import Chromosome\n",
    "from random import seed \n",
    "import netconf\n",
    "\n",
    "#seed(100)\n",
    "\n",
    "#net=readNet(\"data/net.in\")\n",
    "net=readGML(\"data/karate.gml\")\n",
    "# print(net['mat'])\n",
    "# print(net['degrees'])\n",
    "MIN=1\n",
    "if net['noNodes']<=11:\n",
    "    MAX=net[\"noNodes\"]\n",
    "else:\n",
    "    MAX=11\n",
    "noDim=net[\"noNodes\"]\n",
    "# initialise de GA parameters\n",
    "gaParam = {'popSize' : 100, 'noGen' : 100, 'pc' : 0.8, 'pm' : 0.1}\n",
    "# problem parameters\n",
    "problParam = {'min' : MIN, 'max' : MAX, 'function' : fcEval, 'noDim' : noDim, 'noBits' : 8}\n",
    "\n",
    "# store the best/average solution of each iteration (for a final plot used to anlyse the GA's convergence)\n",
    "allBestFitnesses = []\n",
    "allAvgFitnesses = []\n",
    "generations = []\n",
    "\n",
    "\n",
    "ga = GA(gaParam, problParam)\n",
    "ga.initialisation()\n",
    "ga.evaluation()\n",
    "maximFitness=-1\n",
    "bestRepres=[]\n",
    "fileName_output=\"karate_out.txt\"\n",
    "f=open(fileName_output,'w')\n",
    "for g in range(gaParam['noGen']):\n",
    "    #plotting preparation\n",
    "    # allPotentialSolutionsX = [c.repres for c in ga.population]\n",
    "    # allPotentialSolutionsY = [c.fitness for c in ga.population]\n",
    "    bestSolX = ga.bestChromosome().repres\n",
    "    bestSolY = ga.bestChromosome().fitness\n",
    "    if bestSolY>maximFitness:\n",
    "        maximFitness=bestSolY\n",
    "        bestRepres=bestSolX\n",
    "    allBestFitnesses.append(bestSolY)\n",
    "    #allAvgFitnesses.append(sum(allPotentialSolutionsY) / len(allPotentialSolutionsY))\n",
    "    #generations.append(g)\n",
    "    \n",
    "\n",
    "    #logic alg\n",
    "    #ga.oneGeneration()\n",
    "    ga.oneGenerationElitism()\n",
    "    # ga.oneGenerationSteadyState()\n",
    "    \n",
    "    bestChromo = ga.bestChromosome()\n",
    "    f.write('Best solution in generation ' + str(g) + ' is: x = ' + str(bestChromo.repres) + ' f(x) = ' + str(bestChromo.fitness))\n",
    "    f.write('\\n')\n",
    "f.write(\"Best repres&fitness: \"+str(bestRepres)+\" \"+str(maximFitness))\n",
    "f.write('\\n')\n",
    "f.write(\"Nr. de comunitati: \"+str(nrComunitati(bestRepres)))\n",
    "f.write('\\n')\n",
    "f.write(\"Node - culoare comunitate: \\n\")\n",
    "for i in range(len(bestRepres)):\n",
    "    f.write(str(i)+\" - \"+str(bestRepres[i]))\n",
    "    f.write('\\n')\n",
    "    \n",
    "f.close()"
   ],
   "metadata": {
    "collapsed": false,
    "pycharm": {
     "name": "#%%\n",
     "is_executing": false
    }
   }
  }
 ],
 "metadata": {
  "kernelspec": {
   "display_name": "Python 3",
   "language": "python",
   "name": "python3"
  },
  "language_info": {
   "codemirror_mode": {
    "name": "ipython",
    "version": 2
   },
   "file_extension": ".py",
   "mimetype": "text/x-python",
   "name": "python",
   "nbconvert_exporter": "python",
   "pygments_lexer": "ipython2",
   "version": "2.7.6"
  },
  "pycharm": {
   "stem_cell": {
    "cell_type": "raw",
    "source": [],
    "metadata": {
     "collapsed": false
    }
   }
  }
 },
 "nbformat": 4,
 "nbformat_minor": 0
}